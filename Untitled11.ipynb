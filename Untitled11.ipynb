{
 "cells": [
  {
   "cell_type": "code",
   "execution_count": 1,
   "id": "6e1351d0",
   "metadata": {},
   "outputs": [
    {
     "name": "stdout",
     "output_type": "stream",
     "text": [
      "After adding 50 and 60: [11, 12, 13, 14, 50, 60]\n"
     ]
    }
   ],
   "source": [
    "import math\n",
    "\n",
    "# (i) Add 50 and 60 to L\n",
    "L = [11, 12, 13, 14]\n",
    "L.append(50)\n",
    "L.append(60)\n",
    "print(\"After adding 50 and 60:\", L)\n",
    "\n"
   ]
  },
  {
   "cell_type": "code",
   "execution_count": 2,
   "id": "9c789830",
   "metadata": {},
   "outputs": [
    {
     "name": "stdout",
     "output_type": "stream",
     "text": [
      "After removing 11 and 13: [12, 14, 50, 60]\n"
     ]
    }
   ],
   "source": [
    "# (ii) Remove 11 and 13 from L\n",
    "L.remove(11)\n",
    "L.remove(13)\n",
    "print(\"After removing 11 and 13:\", L)"
   ]
  },
  {
   "cell_type": "code",
   "execution_count": 3,
   "id": "e28efe18",
   "metadata": {},
   "outputs": [
    {
     "name": "stdout",
     "output_type": "stream",
     "text": [
      "After sorting in ascending order: [12, 14, 50, 60]\n"
     ]
    }
   ],
   "source": [
    "# (iii) Sort L in ascending order\n",
    "L.sort()\n",
    "print(\"After sorting in ascending order:\", L)\n"
   ]
  },
  {
   "cell_type": "code",
   "execution_count": 4,
   "id": "a8b80c30",
   "metadata": {},
   "outputs": [
    {
     "name": "stdout",
     "output_type": "stream",
     "text": [
      "After sorting in descending order: [60, 50, 14, 12]\n"
     ]
    }
   ],
   "source": [
    "# (iv) Sort L in descending order\n",
    "L.sort(reverse=True)\n",
    "print(\"After sorting in descending order:\", L)\n"
   ]
  },
  {
   "cell_type": "code",
   "execution_count": 5,
   "id": "bb9cfa40",
   "metadata": {},
   "outputs": [
    {
     "name": "stdout",
     "output_type": "stream",
     "text": [
      "13 not found in the list.\n"
     ]
    }
   ],
   "source": [
    "# (v) Search for 13 in L\n",
    "if 13 in L:\n",
    "    print(\"13 found in the list.\")\n",
    "else:\n",
    "    print(\"13 not found in the list.\")\n"
   ]
  },
  {
   "cell_type": "code",
   "execution_count": 6,
   "id": "9dced726",
   "metadata": {},
   "outputs": [
    {
     "name": "stdout",
     "output_type": "stream",
     "text": [
      "Number of elements in the list: 4\n"
     ]
    }
   ],
   "source": [
    "# (vi) Count the number of elements in L\n",
    "count = len(L)\n",
    "print(\"Number of elements in the list:\", count)"
   ]
  },
  {
   "cell_type": "code",
   "execution_count": 7,
   "id": "6f23dc02",
   "metadata": {},
   "outputs": [
    {
     "name": "stdout",
     "output_type": "stream",
     "text": [
      "Sum of all elements: 136\n"
     ]
    }
   ],
   "source": [
    "# (vii) Sum all the elements in L\n",
    "sum_all = sum(L)\n",
    "print(\"Sum of all elements:\", sum_all)\n"
   ]
  },
  {
   "cell_type": "code",
   "execution_count": 8,
   "id": "32c377a8",
   "metadata": {},
   "outputs": [
    {
     "name": "stdout",
     "output_type": "stream",
     "text": [
      "Sum of all odd numbers: 0\n"
     ]
    }
   ],
   "source": [
    "\n",
    "# (viii) Sum all ODD numbers in L\n",
    "sum_odd = sum(num for num in L if num % 2 != 0)\n",
    "print(\"Sum of all odd numbers:\", sum_odd)\n"
   ]
  },
  {
   "cell_type": "code",
   "execution_count": 9,
   "id": "d58de3ea",
   "metadata": {},
   "outputs": [
    {
     "name": "stdout",
     "output_type": "stream",
     "text": [
      "Sum of all even numbers: 136\n"
     ]
    }
   ],
   "source": [
    "\n",
    "# (ix) Sum all EVEN numbers in L\n",
    "sum_even = sum(num for num in L if num % 2 == 0)\n",
    "print(\"Sum of all even numbers:\", sum_even)"
   ]
  },
  {
   "cell_type": "code",
   "execution_count": 10,
   "id": "42d2a0da",
   "metadata": {},
   "outputs": [
    {
     "name": "stdout",
     "output_type": "stream",
     "text": [
      "Sum of all prime numbers: 0\n"
     ]
    }
   ],
   "source": [
    "# (x) Sum all PRIME numbers in L\n",
    "def is_prime(num):\n",
    "    if num < 2:\n",
    "        return False\n",
    "    for i in range(2, int(math.sqrt(num)) + 1):\n",
    "        if num % i == 0:\n",
    "            return False\n",
    "    return True\n",
    "sum_prime = sum(num for num in L if is_prime(num))\n",
    "print(\"Sum of all prime numbers:\", sum_prime)"
   ]
  },
  {
   "cell_type": "code",
   "execution_count": 11,
   "id": "e38cd2f5",
   "metadata": {},
   "outputs": [
    {
     "name": "stdout",
     "output_type": "stream",
     "text": [
      "After clearing the list: []\n"
     ]
    }
   ],
   "source": [
    "\n",
    "# (xi) Clear all the elements in L\n",
    "L.clear()\n",
    "print(\"After clearing the list:\", L)"
   ]
  },
  {
   "cell_type": "code",
   "execution_count": 12,
   "id": "c4ad8001",
   "metadata": {},
   "outputs": [
    {
     "ename": "NameError",
     "evalue": "name 'L' is not defined",
     "output_type": "error",
     "traceback": [
      "\u001b[0;31m---------------------------------------------------------------------------\u001b[0m",
      "\u001b[0;31mNameError\u001b[0m                                 Traceback (most recent call last)",
      "Input \u001b[0;32mIn [12]\u001b[0m, in \u001b[0;36m<cell line: 4>\u001b[0;34m()\u001b[0m\n\u001b[1;32m      2\u001b[0m L \u001b[38;5;241m=\u001b[39m [\u001b[38;5;241m11\u001b[39m, \u001b[38;5;241m12\u001b[39m, \u001b[38;5;241m13\u001b[39m, \u001b[38;5;241m14\u001b[39m]\n\u001b[1;32m      3\u001b[0m \u001b[38;5;28;01mdel\u001b[39;00m L\n\u001b[0;32m----> 4\u001b[0m \u001b[38;5;28mprint\u001b[39m(\u001b[38;5;124m\"\u001b[39m\u001b[38;5;124mAfter deleting the list:\u001b[39m\u001b[38;5;124m\"\u001b[39m, \u001b[43mL\u001b[49m)\n",
      "\u001b[0;31mNameError\u001b[0m: name 'L' is not defined"
     ]
    }
   ],
   "source": [
    "# (xii) Delete L\n",
    "L = [11, 12, 13, 14]\n",
    "del L\n",
    "print(\"After deleting the list:\", L)  # Raises NameError since L no longer exists\n"
   ]
  },
  {
   "cell_type": "code",
   "execution_count": null,
   "id": "857633ef",
   "metadata": {},
   "outputs": [],
   "source": []
  },
  {
   "cell_type": "code",
   "execution_count": null,
   "id": "9c634779",
   "metadata": {},
   "outputs": [],
   "source": []
  },
  {
   "cell_type": "code",
   "execution_count": 23,
   "id": "40d77a72",
   "metadata": {},
   "outputs": [
    {
     "name": "stdout",
     "output_type": "stream",
     "text": [
      "After adding new entry: {1: 5.6, 2: 7.8, 3: 6.6, 4: 8.7, 5: 7.7, 8: 8.8}\n",
      "After removing key=2: {1: 5.6, 3: 6.6, 4: 8.7, 5: 7.7, 8: 8.8}\n",
      "Key=6 is not present in the dictionary.\n",
      "Number of elements in the dictionary: 5\n",
      "Sum of all values: 37.4\n",
      "After updating the value of key=3: {1: 5.6, 3: 7.1, 4: 8.7, 5: 7.7, 8: 8.8}\n",
      "After clearing the dictionary: {}\n"
     ]
    }
   ],
   "source": [
    "# (i) Add new entry in D; key=8 and value is 8.8\n",
    "D = {1: 5.6, 2: 7.8, 3: 6.6, 4: 8.7, 5: 7.7}\n",
    "D[8] = 8.8\n",
    "print(\"After adding new entry:\", D)\n",
    "\n",
    "# (ii) Remove key=2 from D\n",
    "del D[2]\n",
    "print(\"After removing key=2:\", D)\n",
    "\n",
    "# (iii) Check if key=6 is present in D\n",
    "if 6 in D:\n",
    "    print(\"Key=6 is present in the dictionary.\")\n",
    "else:\n",
    "    print(\"Key=6 is not present in the dictionary.\")\n",
    "\n",
    "# (iv) Count the number of elements present in D\n",
    "count = len(D)\n",
    "print(\"Number of elements in the dictionary:\", count)\n",
    "\n",
    "# (v) Add all the values present in D\n",
    "sum_values = sum(D.values())\n",
    "print(\"Sum of all values:\", sum_values)\n",
    "\n",
    "# (vi) Update the value of key=3 to 7.1\n",
    "D[3] = 7.1\n",
    "print(\"After updating the value of key=3:\", D)\n",
    "\n",
    "# (vii) Clear the dictionary\n",
    "D.clear()\n",
    "print(\"After clearing the dictionary:\", D)\n"
   ]
  },
  {
   "cell_type": "code",
   "execution_count": null,
   "id": "028aedc5",
   "metadata": {},
   "outputs": [],
   "source": []
  },
  {
   "cell_type": "code",
   "execution_count": null,
   "id": "bfdd298f",
   "metadata": {},
   "outputs": [],
   "source": []
  },
  {
   "cell_type": "code",
   "execution_count": null,
   "id": "085a6b0d",
   "metadata": {},
   "outputs": [],
   "source": [
    "# (i) Add 55 and 66 in Set S1\n",
    "S1 = {10, 20, 30, 40, 50, 60}\n",
    "S1.add(55)\n",
    "S1.add(66)\n",
    "print(\"After adding 55 and 66 in S1:\", S1)\n",
    "\n",
    "# (ii) Remove 10 and 30 from Set S1\n",
    "S1.remove(10)\n",
    "S1.remove(30)\n",
    "print(\"After removing 10 and 30 from S1:\", S1)\n",
    "\n",
    "# (iii) Check whether 40 is present in S1\n",
    "if 40 in S1:\n",
    "    print(\"40 is present in S1.\")\n",
    "else:\n",
    "    print(\"40 is not present in S1.\")\n",
    "\n",
    "# (iv) Find the union between S1 and S2\n",
    "S2 = {40, 50, 60, 70, 80, 90}\n",
    "union = S1.union(S2)\n",
    "print(\"Union of S1 and S2:\", union)\n",
    "\n",
    "# (v) Find the intersection between S1 and S2\n",
    "intersection = S1.intersection(S2)\n",
    "print(\"Intersection of S1 and S2:\", intersection)\n",
    "\n",
    "# (vi) Find S1 - S2\n",
    "difference = S1.difference(S2)\n",
    "print(\"Difference of S1 and S2:\", difference)\n"
   ]
  },
  {
   "cell_type": "code",
   "execution_count": null,
   "id": "c12062ca",
   "metadata": {},
   "outputs": [],
   "source": []
  },
  {
   "cell_type": "code",
   "execution_count": null,
   "id": "6824e2e8",
   "metadata": {},
   "outputs": [],
   "source": []
  },
  {
   "cell_type": "code",
   "execution_count": null,
   "id": "6fac6d90",
   "metadata": {},
   "outputs": [],
   "source": []
  },
  {
   "cell_type": "code",
   "execution_count": 22,
   "id": "81c635af",
   "metadata": {},
   "outputs": [
    {
     "name": "stdout",
     "output_type": "stream",
     "text": [
      "Prime numbers between 600 and 800:\n",
      "601\n",
      "607\n",
      "613\n",
      "617\n",
      "619\n",
      "631\n",
      "641\n",
      "643\n",
      "647\n",
      "653\n",
      "659\n",
      "661\n",
      "673\n",
      "677\n",
      "683\n",
      "691\n",
      "701\n",
      "709\n",
      "719\n",
      "727\n",
      "733\n",
      "739\n",
      "743\n",
      "751\n",
      "757\n",
      "761\n",
      "769\n",
      "773\n",
      "787\n",
      "797\n",
      "Numbers between 100 and 1000 divisible by 7 and 9:\n",
      "126\n",
      "189\n",
      "252\n",
      "315\n",
      "378\n",
      "441\n",
      "504\n",
      "567\n",
      "630\n",
      "693\n",
      "756\n",
      "819\n",
      "882\n",
      "945\n"
     ]
    }
   ],
   "source": [
    "import random\n",
    "import math\n",
    "# (ii) Print all prime numbers between 600 and 800\n",
    "def is_prime(num):\n",
    "    if num < 2:\n",
    "        return False\n",
    "    for i in range(2, int(math.sqrt(num)) + 1):\n",
    "        if num % i == 0:\n",
    "            return False\n",
    "    return True\n",
    "\n",
    "print(\"Prime numbers between 600 and 800:\")\n",
    "for num in range(600, 801):\n",
    "    if is_prime(num):\n",
    "        print(num)\n",
    "\n",
    "# (iii) Print all numbers between 100 and 1000 that are divisible by 7 and 9\n",
    "print(\"Numbers between 100 and 1000 divisible by 7 and 9:\")\n",
    "for num in range(100, 1001):\n",
    "    if num % 7 == 0 and num % 9 == 0:\n",
    "        print(num)\n"
   ]
  },
  {
   "cell_type": "code",
   "execution_count": null,
   "id": "2c73fadb",
   "metadata": {},
   "outputs": [],
   "source": []
  },
  {
   "cell_type": "code",
   "execution_count": null,
   "id": "d76b6d60",
   "metadata": {},
   "outputs": [],
   "source": []
  },
  {
   "cell_type": "code",
   "execution_count": null,
   "id": "812ec5bb",
   "metadata": {},
   "outputs": [],
   "source": [
    "#Q5"
   ]
  },
  {
   "cell_type": "code",
   "execution_count": 13,
   "id": "1f807dbf",
   "metadata": {},
   "outputs": [
    {
     "name": "stdout",
     "output_type": "stream",
     "text": [
      "List 1: [29, 27, 26, 19, 28, 17, 25, 14, 16, 10]\n",
      "List 2: [29, 26, 28, 14, 25, 27, 15, 16, 24, 19]\n",
      "Common numbers: [14, 16, 19, 25, 26, 27, 28, 29]\n",
      "Unique numbers: [10, 15, 17, 24]\n",
      "Minimum in List 1: 10\n",
      "Minimum in List 2: 14\n",
      "Maximum in List 1: 29\n",
      "Maximum in List 2: 29\n",
      "Sum of both lists: 434\n"
     ]
    }
   ],
   "source": [
    "import random\n",
    "\n",
    "\n",
    "list1 = random.sample(range(10, 31), 10)\n",
    "list2 = random.sample(range(10, 31), 10)\n",
    "\n",
    "print(\"List 1:\", list1)\n",
    "print(\"List 2:\", list2)\n",
    "\n",
    "# (i) Find common numbers in the two lists\n",
    "common_numbers = list(set(list1) & set(list2))\n",
    "print(\"Common numbers:\", common_numbers)\n",
    "\n",
    "# (ii) Find unique numbers in both lists\n",
    "unique_numbers = list(set(list1) ^ set(list2))\n",
    "print(\"Unique numbers:\", unique_numbers)\n",
    "\n",
    "# (iii) Find the minimum in both lists\n",
    "minimum_list1 = min(list1)\n",
    "minimum_list2 = min(list2)\n",
    "print(\"Minimum in List 1:\", minimum_list1)\n",
    "print(\"Minimum in List 2:\", minimum_list2)\n",
    "\n",
    "# (iv) Find the maximum in both lists\n",
    "maximum_list1 = max(list1)\n",
    "maximum_list2 = max(list2)\n",
    "print(\"Maximum in List 1:\", maximum_list1)\n",
    "print(\"Maximum in List 2:\", maximum_list2)\n",
    "\n",
    "# (v) Find the sum of both lists\n",
    "sum_lists = sum(list1) + sum(list2)\n",
    "print(\"Sum of both lists:\", sum_lists)\n"
   ]
  },
  {
   "cell_type": "code",
   "execution_count": null,
   "id": "8d853304",
   "metadata": {},
   "outputs": [],
   "source": []
  },
  {
   "cell_type": "code",
   "execution_count": null,
   "id": "25a0631e",
   "metadata": {},
   "outputs": [],
   "source": [
    "#Q6"
   ]
  },
  {
   "cell_type": "code",
   "execution_count": 14,
   "id": "c486eed5",
   "metadata": {},
   "outputs": [
    {
     "name": "stdout",
     "output_type": "stream",
     "text": [
      "Odd numbers: [899, 697, 457, 243, 709, 349, 857, 339, 309, 809, 791, 407, 533, 635, 679, 681, 357, 293, 691, 825, 469, 433, 513, 855, 307, 131, 611, 705, 149, 553, 665, 397, 307, 201, 247, 501, 519, 471, 701, 599, 451, 627, 809, 463, 503, 393, 197, 479, 329, 333, 441, 871, 463, 753, 765]\n",
      "Count of odd numbers: 55\n",
      "Even numbers: [662, 788, 564, 786, 420, 306, 396, 888, 402, 822, 582, 664, 522, 316, 812, 458, 630, 434, 746, 134, 338, 660, 262, 894, 714, 890, 590, 736, 148, 464, 874, 556, 314, 890, 600, 214, 770, 236, 532, 556, 190, 838, 636, 204, 744]\n",
      "Count of even numbers: 45\n",
      "Prime numbers: [457, 709, 349, 857, 809, 293, 691, 433, 307, 131, 149, 397, 307, 701, 599, 809, 463, 503, 197, 479, 463]\n",
      "Count of prime numbers: 21\n"
     ]
    }
   ],
   "source": [
    "import random\n",
    "import math\n",
    "\n",
    "\n",
    "random_numbers = [random.randint(100, 900) for _ in range(100)]\n",
    "\n",
    "# (i) Count and print all odd numbers\n",
    "odd_numbers = [num for num in random_numbers if num % 2 != 0]\n",
    "odd_count = len(odd_numbers)\n",
    "print(\"Odd numbers:\", odd_numbers)\n",
    "print(\"Count of odd numbers:\", odd_count)\n",
    "\n",
    "# (ii) Count and print all even numbers\n",
    "even_numbers = [num for num in random_numbers if num % 2 == 0]\n",
    "even_count = len(even_numbers)\n",
    "print(\"Even numbers:\", even_numbers)\n",
    "print(\"Count of even numbers:\", even_count)\n",
    "\n",
    "# (iii) Count and print all prime numbers\n",
    "def is_prime(num):\n",
    "    if num < 2:\n",
    "        return False\n",
    "    for i in range(2, int(math.sqrt(num)) + 1):\n",
    "        if num % i == 0:\n",
    "            return False\n",
    "    return True\n",
    "\n",
    "prime_numbers = [num for num in random_numbers if is_prime(num)]\n",
    "prime_count = len(prime_numbers)\n",
    "print(\"Prime numbers:\", prime_numbers)\n",
    "print(\"Count of prime numbers:\", prime_count)\n"
   ]
  },
  {
   "cell_type": "code",
   "execution_count": null,
   "id": "c6fe7ed1",
   "metadata": {},
   "outputs": [],
   "source": []
  },
  {
   "cell_type": "code",
   "execution_count": null,
   "id": "9692a838",
   "metadata": {},
   "outputs": [],
   "source": [
    "#Q7"
   ]
  },
  {
   "cell_type": "code",
   "execution_count": 15,
   "id": "8784601d",
   "metadata": {},
   "outputs": [
    {
     "name": "stdout",
     "output_type": "stream",
     "text": [
      "Keys and values written to the file.\n"
     ]
    }
   ],
   "source": [
    "D = {1: \"One\", 2: \"Two\", 3: \"Three\", 4: \"Four\", 5: \"Five\"}\n",
    "\n",
    "\n",
    "with open(\"dictionary_output.txt\", \"w\") as file:\n",
    "    \n",
    "    for key, value in D.items():\n",
    "        file.write(f\"Key{key}, Value{value} \")\n",
    "\n",
    "\n",
    "print(\"Keys and values written to the file.\")\n"
   ]
  },
  {
   "cell_type": "code",
   "execution_count": null,
   "id": "09f3d306",
   "metadata": {},
   "outputs": [],
   "source": []
  },
  {
   "cell_type": "code",
   "execution_count": null,
   "id": "09253ec0",
   "metadata": {},
   "outputs": [],
   "source": [
    "#Q8"
   ]
  },
  {
   "cell_type": "code",
   "execution_count": 16,
   "id": "7e116d86",
   "metadata": {},
   "outputs": [
    {
     "name": "stdout",
     "output_type": "stream",
     "text": [
      "Element lengths written to the file.\n"
     ]
    }
   ],
   "source": [
    "L = [\"One\", \"Two\", \"Three\", \"Four\", \"Five\"]\n",
    "\n",
    "# Open the file in write mode\n",
    "with open(\"element_length.txt\", \"w\") as file:\n",
    "    # Iterate over the list and write the element and its length in the desired format\n",
    "    for element in L:\n",
    "        length = len(element)\n",
    "        file.write(f\"{element}, {length} \")\n",
    "\n",
    "# Notify the user that the operation is complete\n",
    "print(\"Element lengths written to the file.\")\n"
   ]
  },
  {
   "cell_type": "code",
   "execution_count": null,
   "id": "551c85ec",
   "metadata": {},
   "outputs": [],
   "source": []
  },
  {
   "cell_type": "code",
   "execution_count": null,
   "id": "b4659a64",
   "metadata": {},
   "outputs": [],
   "source": [
    "#Q9"
   ]
  },
  {
   "cell_type": "code",
   "execution_count": 17,
   "id": "2aaf4b4a",
   "metadata": {},
   "outputs": [
    {
     "name": "stdout",
     "output_type": "stream",
     "text": [
      "Random strings written to the file.\n"
     ]
    }
   ],
   "source": [
    "import random\n",
    "import string\n",
    "\n",
    "def generate_random_string(length):\n",
    "    letters = string.ascii_letters\n",
    "    return ''.join(random.choice(letters) for _ in range(length))\n",
    "\n",
    "\n",
    "with open(\"random_strings.txt\", \"w\") as file:\n",
    "    for _ in range(100):\n",
    "        length = random.randint(10, 15)\n",
    "        random_string = generate_random_string(length)\n",
    "        file.write(random_string + \"\\n\")\n",
    "\n",
    "\n",
    "print(\"Random strings written to the file.\")\n"
   ]
  },
  {
   "cell_type": "code",
   "execution_count": null,
   "id": "1a545a09",
   "metadata": {},
   "outputs": [],
   "source": []
  },
  {
   "cell_type": "code",
   "execution_count": null,
   "id": "5998dfb0",
   "metadata": {},
   "outputs": [],
   "source": [
    "#Q10"
   ]
  },
  {
   "cell_type": "code",
   "execution_count": 18,
   "id": "8ea20aa3",
   "metadata": {},
   "outputs": [
    {
     "name": "stdout",
     "output_type": "stream",
     "text": [
      "Prime numbers written to the file.\n"
     ]
    }
   ],
   "source": [
    "import math\n",
    "\n",
    "def is_prime(num):\n",
    "    if num < 2:\n",
    "        return False\n",
    "    for i in range(2, int(math.sqrt(num)) + 1):\n",
    "        if num % i == 0:\n",
    "            return False\n",
    "    return True\n",
    "\n",
    "\n",
    "with open(\"prime_numbers.txt\", \"w\") as file:\n",
    "    for num in range(600, 801):\n",
    "        if is_prime(num):\n",
    "            file.write(str(num) + \"\\n\")\n",
    "            \n",
    "print(\"Prime numbers written to the file.\")\n"
   ]
  },
  {
   "cell_type": "code",
   "execution_count": null,
   "id": "ea9802c9",
   "metadata": {},
   "outputs": [],
   "source": []
  },
  {
   "cell_type": "code",
   "execution_count": null,
   "id": "c051679a",
   "metadata": {},
   "outputs": [],
   "source": [
    "#Q11"
   ]
  },
  {
   "cell_type": "code",
   "execution_count": 19,
   "id": "d9b6d250",
   "metadata": {},
   "outputs": [
    {
     "name": "stdout",
     "output_type": "stream",
     "text": [
      "Elapsed time: 3.1948089599609375e-05 seconds\n"
     ]
    }
   ],
   "source": [
    "import time\n",
    "\n",
    "\n",
    "start_time = time.time()\n",
    "\n",
    "end_time = time.time()\n",
    "\n",
    "elapsed_time = end_time - start_time\n",
    "\n",
    "print(\"Elapsed time:\", elapsed_time, \"seconds\")\n"
   ]
  },
  {
   "cell_type": "code",
   "execution_count": null,
   "id": "36c2fd7d",
   "metadata": {},
   "outputs": [],
   "source": []
  },
  {
   "cell_type": "code",
   "execution_count": null,
   "id": "7936a7f2",
   "metadata": {},
   "outputs": [],
   "source": [
    "#Q12"
   ]
  },
  {
   "cell_type": "code",
   "execution_count": 20,
   "id": "7d18f36f",
   "metadata": {},
   "outputs": [
    {
     "data": {
      "image/png": "[encoded data removed]",
      "text/plain": [
       "<Figure size 640x480 with 1 Axes>"
      ]
     },
     "metadata": {},
     "output_type": "display_data"
    }
   ],
   "source": [
    "import time\n",
    "import matplotlib.pyplot as plt\n",
    "\n",
    "def sort_list(lst):\n",
    "    start_time = time.time()\n",
    "    sorted_lst = sorted(lst)\n",
    "    end_time = time.time()\n",
    "    elapsed_time = end_time - start_time\n",
    "    return elapsed_time\n",
    "\n",
    "num_elements = [5000, 10000, 15000, 20000, 25000]\n",
    "time_taken = []\n",
    "\n",
    "for n in num_elements:\n",
    "    lst = list(range(n, 0, -1))  \n",
    "    t = sort_list(lst)\n",
    "    time_taken.append(t)\n",
    "\n",
    "\n",
    "plt.plot(num_elements, time_taken, marker='o')\n",
    "plt.xlabel('Number of Elements')\n",
    "plt.ylabel('Time Taken (seconds)')\n",
    "plt.title('Sorting Time vs Number of Elements')\n",
    "plt.show()\n"
   ]
  },
  {
   "cell_type": "code",
   "execution_count": null,
   "id": "140e55bd",
   "metadata": {},
   "outputs": [],
   "source": []
  },
  {
   "cell_type": "code",
   "execution_count": null,
   "id": "fe9b1499",
   "metadata": {},
   "outputs": [],
   "source": [
    "#Q13"
   ]
  },
  {
   "cell_type": "code",
   "execution_count": 21,
   "id": "1f7ac6ba",
   "metadata": {},
   "outputs": [
    {
     "name": "stdout",
     "output_type": "stream",
     "text": [
      "Student with maximum average marks: William\n",
      "Student with minimum average marks: John\n"
     ]
    }
   ],
   "source": [
    "\n",
    "student_marks = {\n",
    "    'John': [80, 85, 90, 92, 78],\n",
    "    'Emma': [92, 88, 95, 76, 84],\n",
    "    'Michael': [78, 92, 80, 85, 90],\n",
    "    'Sophia': [86, 79, 88, 92, 80],\n",
    "    'William': [90, 82, 85, 88, 92]\n",
    "}\n",
    "\n",
    "\n",
    "average_marks = {}\n",
    "\n",
    "for student, marks in student_marks.items():\n",
    "    average = sum(marks) / len(marks)\n",
    "    average_marks[student] = average\n",
    "\n",
    "max_student = max(average_marks, key=average_marks.get)\n",
    "min_student = min(average_marks, key=average_marks.get)\n",
    "\n",
    "\n",
    "print(\"Student with maximum average marks:\", max_student)\n",
    "print(\"Student with minimum average marks:\", min_student)\n"
   ]
  },
  {
   "cell_type": "code",
   "execution_count": null,
   "id": "cee1ae12",
   "metadata": {},
   "outputs": [],
   "source": []
  },
  {
   "cell_type": "code",
   "execution_count": null,
   "id": "4d1a4c36",
   "metadata": {},
   "outputs": [],
   "source": []
  },
  {
   "cell_type": "code",
   "execution_count": null,
   "id": "1092c6fd",
   "metadata": {},
   "outputs": [],
   "source": []
  },
  {
   "cell_type": "code",
   "execution_count": null,
   "id": "b7032883",
   "metadata": {},
   "outputs": [],
   "source": []
  },
  {
   "cell_type": "code",
   "execution_count": null,
   "id": "c3e225f6",
   "metadata": {},
   "outputs": [],
   "source": []
  },
  {
   "cell_type": "code",
   "execution_count": null,
   "id": "f48b4a76",
   "metadata": {},
   "outputs": [],
   "source": []
  },
  {
   "cell_type": "code",
   "execution_count": null,
   "id": "6ee75d8f",
   "metadata": {},
   "outputs": [],
   "source": []
  },
  {
   "cell_type": "code",
   "execution_count": null,
   "id": "1022c4ee",
   "metadata": {},
   "outputs": [],
   "source": []
  },
  {
   "cell_type": "code",
   "execution_count": null,
   "id": "8ace8687",
   "metadata": {},
   "outputs": [],
   "source": []
  },
  {
   "cell_type": "code",
   "execution_count": null,
   "id": "2fbac18c",
   "metadata": {},
   "outputs": [],
   "source": []
  },
  {
   "cell_type": "code",
   "execution_count": null,
   "id": "0a32a7e2",
   "metadata": {},
   "outputs": [],
   "source": []
  },
  {
   "cell_type": "code",
   "execution_count": null,
   "id": "8766c092",
   "metadata": {},
   "outputs": [],
   "source": []
  },
  {
   "cell_type": "code",
   "execution_count": null,
   "id": "dfb78c30",
   "metadata": {},
   "outputs": [],
   "source": []
  },
  {
   "cell_type": "code",
   "execution_count": null,
   "id": "e6da743f",
   "metadata": {},
   "outputs": [],
   "source": []
  },
  {
   "cell_type": "code",
   "execution_count": null,
   "id": "cfc3f741",
   "metadata": {},
   "outputs": [],
   "source": []
  }
 ],
 "metadata": {
  "kernelspec": {
   "display_name": "Python 3 (ipykernel)",
   "language": "python",
   "name": "python3"
  },
  "language_info": {
   "codemirror_mode": {
    "name": "ipython",
    "version": 3
   },
   "file_extension": ".py",
   "mimetype": "text/x-python",
   "name": "python",
   "nbconvert_exporter": "python",
   "pygments_lexer": "ipython3",
   "version": "3.9.13"
  }
 },
 "nbformat": 4,
 "nbformat_minor": 5
}
